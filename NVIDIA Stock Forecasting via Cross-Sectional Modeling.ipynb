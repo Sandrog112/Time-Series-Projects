{
 "cells": [
  {
   "cell_type": "markdown",
   "metadata": {
    "id": "hY3sBtMPpRL5"
   },
   "source": [
    "# **NVIDIA Stock Forecasting via Cross-Sectional Modeling**"
   ]
  },
  {
   "cell_type": "markdown",
   "metadata": {},
   "source": [
    "## Dataset Overview"
   ]
  },
  {
   "cell_type": "markdown",
   "metadata": {},
   "source": [
    "The NVIDIA Stock Price dataset provides daily historical stock data from July 28, 2011, to July 27, 2016, sourced from NASDAQ via Yahoo Finance. It contains 1,258 records and includes key financial indicators such as Open, High, Low, Close, Adjusted Close, and Volume.\n",
    "\n",
    "This project focuses on modeling the closing price by converting the time series into a cross-sectional supervised learning problem. With engineered time-based features, the dataset serves as the foundation for forecasting using boosting algorithms like XGBoost, and for comparing these models to classical statistical methods.\n",
    "\n",
    "\n",
    "[Dataset Link](https://github.com/antoinecarme/TimeSeriesData/tree/master/YahooFinance)"
   ]
  },
  {
   "cell_type": "markdown",
   "metadata": {},
   "source": [
    "## **Data Inspection and Preparation**"
   ]
  },
  {
   "cell_type": "markdown",
   "metadata": {
    "id": "RLrGflo4pbsj"
   },
   "source": [
    "Before we import and analyse our dataset, let's first create a cell fully dedicated to importing requirements"
   ]
  },
  {
   "cell_type": "code",
   "execution_count": 6,
   "metadata": {
    "id": "DzMcLFKzqLZp"
   },
   "outputs": [],
   "source": [
    "import pandas as pd\n",
    "import numpy as np\n",
    "import datetime\n",
    "import itertools\n",
    "import warnings\n",
    "from math import sqrt\n",
    "\n",
    "import matplotlib.pyplot as plt\n",
    "import seaborn as sns\n",
    "import plotly.express as px\n",
    "import plotly.graph_objects as go\n",
    "from plotly.subplots import make_subplots\n",
    "import plotly.subplots as sp\n",
    "\n",
    "import statsmodels.api as sm\n",
    "from statsmodels.tsa.stattools import acf, adfuller\n",
    "from statsmodels.tsa.seasonal import seasonal_decompose\n",
    "from statsmodels.tsa.arima.model import ARIMA\n",
    "from statsmodels.tsa.statespace.sarimax import SARIMAX\n",
    "import scipy.stats as stats\n",
    "\n",
    "from sklearn.metrics import (\n",
    "    mean_squared_error, \n",
    "    mean_absolute_error, \n",
    "    mean_absolute_percentage_error, \n",
    "    r2_score\n",
    ")\n",
    "from sklearn.model_selection import GridSearchCV, TimeSeriesSplit, train_test_split\n",
    "from sklearn.feature_selection import SelectKBest, f_regression\n",
    "\n",
    "from tsfresh import extract_features\n",
    "from tsfresh.feature_extraction import settings, EfficientFCParameters, MinimalFCParameters\n",
    "from tsfresh.utilities.dataframe_functions import impute\n",
    "\n",
    "import xgboost as xgb"
   ]
  },
  {
   "cell_type": "markdown",
   "metadata": {
    "id": "Qtw2H3MAsVpr"
   },
   "source": [
    "There were variety of stocks, but I chose NVIDIA, because dataset's period captures the company’s early growth phase before the major AI and GPU boom, allowing me to analyze how a tech stock performs leading up to significant industry shifts"
   ]
  },
  {
   "cell_type": "code",
   "execution_count": 8,
   "metadata": {
    "id": "PYCwn5AxquTN"
   },
   "outputs": [],
   "source": [
    "nvda= pd.read_csv(r\"C:\\Users\\user\\Desktop\\yahoo_NVDA.csv\")"
   ]
  },
  {
   "cell_type": "code",
   "execution_count": 9,
   "metadata": {
    "colab": {
     "base_uri": "https://localhost:8080/",
     "height": 206
    },
    "id": "OaHoo4lirHDv",
    "outputId": "e0d07cfb-6208-48eb-cd59-8433398759d1"
   },
   "outputs": [
    {
     "data": {
      "text/html": [
       "<div>\n",
       "<style scoped>\n",
       "    .dataframe tbody tr th:only-of-type {\n",
       "        vertical-align: middle;\n",
       "    }\n",
       "\n",
       "    .dataframe tbody tr th {\n",
       "        vertical-align: top;\n",
       "    }\n",
       "\n",
       "    .dataframe thead th {\n",
       "        text-align: right;\n",
       "    }\n",
       "</style>\n",
       "<table border=\"1\" class=\"dataframe\">\n",
       "  <thead>\n",
       "    <tr style=\"text-align: right;\">\n",
       "      <th></th>\n",
       "      <th>Unnamed: 0</th>\n",
       "      <th>Symbol</th>\n",
       "      <th>Date</th>\n",
       "      <th>Close</th>\n",
       "      <th>Low</th>\n",
       "      <th>Volume</th>\n",
       "      <th>Open</th>\n",
       "      <th>Adj_Close</th>\n",
       "      <th>High</th>\n",
       "    </tr>\n",
       "  </thead>\n",
       "  <tbody>\n",
       "    <tr>\n",
       "      <th>0</th>\n",
       "      <td>0</td>\n",
       "      <td>NVDA</td>\n",
       "      <td>2016-07-27</td>\n",
       "      <td>56.060001</td>\n",
       "      <td>55.720001</td>\n",
       "      <td>11122600</td>\n",
       "      <td>57.119999</td>\n",
       "      <td>56.060001</td>\n",
       "      <td>57.220001</td>\n",
       "    </tr>\n",
       "    <tr>\n",
       "      <th>1</th>\n",
       "      <td>1</td>\n",
       "      <td>NVDA</td>\n",
       "      <td>2016-07-26</td>\n",
       "      <td>56.630001</td>\n",
       "      <td>56.090000</td>\n",
       "      <td>12862700</td>\n",
       "      <td>56.169998</td>\n",
       "      <td>56.630001</td>\n",
       "      <td>56.919998</td>\n",
       "    </tr>\n",
       "    <tr>\n",
       "      <th>2</th>\n",
       "      <td>2</td>\n",
       "      <td>NVDA</td>\n",
       "      <td>2016-07-25</td>\n",
       "      <td>55.680000</td>\n",
       "      <td>54.759998</td>\n",
       "      <td>7813200</td>\n",
       "      <td>55.000000</td>\n",
       "      <td>55.680000</td>\n",
       "      <td>55.810001</td>\n",
       "    </tr>\n",
       "    <tr>\n",
       "      <th>3</th>\n",
       "      <td>3</td>\n",
       "      <td>NVDA</td>\n",
       "      <td>2016-07-22</td>\n",
       "      <td>54.669998</td>\n",
       "      <td>53.020000</td>\n",
       "      <td>7894200</td>\n",
       "      <td>53.410000</td>\n",
       "      <td>54.669998</td>\n",
       "      <td>54.669998</td>\n",
       "    </tr>\n",
       "    <tr>\n",
       "      <th>4</th>\n",
       "      <td>4</td>\n",
       "      <td>NVDA</td>\n",
       "      <td>2016-07-21</td>\n",
       "      <td>53.220001</td>\n",
       "      <td>53.040001</td>\n",
       "      <td>9032700</td>\n",
       "      <td>54.099998</td>\n",
       "      <td>53.220001</td>\n",
       "      <td>54.270000</td>\n",
       "    </tr>\n",
       "  </tbody>\n",
       "</table>\n",
       "</div>"
      ],
      "text/plain": [
       "   Unnamed: 0 Symbol        Date      Close        Low    Volume       Open  \\\n",
       "0           0   NVDA  2016-07-27  56.060001  55.720001  11122600  57.119999   \n",
       "1           1   NVDA  2016-07-26  56.630001  56.090000  12862700  56.169998   \n",
       "2           2   NVDA  2016-07-25  55.680000  54.759998   7813200  55.000000   \n",
       "3           3   NVDA  2016-07-22  54.669998  53.020000   7894200  53.410000   \n",
       "4           4   NVDA  2016-07-21  53.220001  53.040001   9032700  54.099998   \n",
       "\n",
       "   Adj_Close       High  \n",
       "0  56.060001  57.220001  \n",
       "1  56.630001  56.919998  \n",
       "2  55.680000  55.810001  \n",
       "3  54.669998  54.669998  \n",
       "4  53.220001  54.270000  "
      ]
     },
     "execution_count": 9,
     "metadata": {},
     "output_type": "execute_result"
    }
   ],
   "source": [
    "nvda.head()"
   ]
  },
  {
   "cell_type": "code",
   "execution_count": 10,
   "metadata": {
    "id": "DHulY3I6rH6i"
   },
   "outputs": [],
   "source": [
    "nvda = nvda.iloc[:, 2:]"
   ]
  },
  {
   "cell_type": "code",
   "execution_count": 11,
   "metadata": {
    "colab": {
     "base_uri": "https://localhost:8080/",
     "height": 206
    },
    "id": "xHK7zvqSrSXr",
    "outputId": "872a7ec1-8c66-4c72-d563-643cc78a9981"
   },
   "outputs": [
    {
     "data": {
      "text/html": [
       "<div>\n",
       "<style scoped>\n",
       "    .dataframe tbody tr th:only-of-type {\n",
       "        vertical-align: middle;\n",
       "    }\n",
       "\n",
       "    .dataframe tbody tr th {\n",
       "        vertical-align: top;\n",
       "    }\n",
       "\n",
       "    .dataframe thead th {\n",
       "        text-align: right;\n",
       "    }\n",
       "</style>\n",
       "<table border=\"1\" class=\"dataframe\">\n",
       "  <thead>\n",
       "    <tr style=\"text-align: right;\">\n",
       "      <th></th>\n",
       "      <th>Date</th>\n",
       "      <th>Close</th>\n",
       "      <th>Low</th>\n",
       "      <th>Volume</th>\n",
       "      <th>Open</th>\n",
       "      <th>Adj_Close</th>\n",
       "      <th>High</th>\n",
       "    </tr>\n",
       "  </thead>\n",
       "  <tbody>\n",
       "    <tr>\n",
       "      <th>0</th>\n",
       "      <td>2016-07-27</td>\n",
       "      <td>56.060001</td>\n",
       "      <td>55.720001</td>\n",
       "      <td>11122600</td>\n",
       "      <td>57.119999</td>\n",
       "      <td>56.060001</td>\n",
       "      <td>57.220001</td>\n",
       "    </tr>\n",
       "    <tr>\n",
       "      <th>1</th>\n",
       "      <td>2016-07-26</td>\n",
       "      <td>56.630001</td>\n",
       "      <td>56.090000</td>\n",
       "      <td>12862700</td>\n",
       "      <td>56.169998</td>\n",
       "      <td>56.630001</td>\n",
       "      <td>56.919998</td>\n",
       "    </tr>\n",
       "    <tr>\n",
       "      <th>2</th>\n",
       "      <td>2016-07-25</td>\n",
       "      <td>55.680000</td>\n",
       "      <td>54.759998</td>\n",
       "      <td>7813200</td>\n",
       "      <td>55.000000</td>\n",
       "      <td>55.680000</td>\n",
       "      <td>55.810001</td>\n",
       "    </tr>\n",
       "    <tr>\n",
       "      <th>3</th>\n",
       "      <td>2016-07-22</td>\n",
       "      <td>54.669998</td>\n",
       "      <td>53.020000</td>\n",
       "      <td>7894200</td>\n",
       "      <td>53.410000</td>\n",
       "      <td>54.669998</td>\n",
       "      <td>54.669998</td>\n",
       "    </tr>\n",
       "    <tr>\n",
       "      <th>4</th>\n",
       "      <td>2016-07-21</td>\n",
       "      <td>53.220001</td>\n",
       "      <td>53.040001</td>\n",
       "      <td>9032700</td>\n",
       "      <td>54.099998</td>\n",
       "      <td>53.220001</td>\n",
       "      <td>54.270000</td>\n",
       "    </tr>\n",
       "  </tbody>\n",
       "</table>\n",
       "</div>"
      ],
      "text/plain": [
       "         Date      Close        Low    Volume       Open  Adj_Close       High\n",
       "0  2016-07-27  56.060001  55.720001  11122600  57.119999  56.060001  57.220001\n",
       "1  2016-07-26  56.630001  56.090000  12862700  56.169998  56.630001  56.919998\n",
       "2  2016-07-25  55.680000  54.759998   7813200  55.000000  55.680000  55.810001\n",
       "3  2016-07-22  54.669998  53.020000   7894200  53.410000  54.669998  54.669998\n",
       "4  2016-07-21  53.220001  53.040001   9032700  54.099998  53.220001  54.270000"
      ]
     },
     "execution_count": 11,
     "metadata": {},
     "output_type": "execute_result"
    }
   ],
   "source": [
    "nvda.head()"
   ]
  },
  {
   "cell_type": "code",
   "execution_count": 12,
   "metadata": {
    "colab": {
     "base_uri": "https://localhost:8080/"
    },
    "id": "m-FJb8K5rUBQ",
    "outputId": "186af9ad-f4bf-4be6-f5ce-73af433fe344"
   },
   "outputs": [
    {
     "name": "stdout",
     "output_type": "stream",
     "text": [
      "<class 'pandas.core.frame.DataFrame'>\n",
      "RangeIndex: 1258 entries, 0 to 1257\n",
      "Data columns (total 7 columns):\n",
      " #   Column     Non-Null Count  Dtype  \n",
      "---  ------     --------------  -----  \n",
      " 0   Date       1258 non-null   object \n",
      " 1   Close      1258 non-null   float64\n",
      " 2   Low        1258 non-null   float64\n",
      " 3   Volume     1258 non-null   int64  \n",
      " 4   Open       1258 non-null   float64\n",
      " 5   Adj_Close  1258 non-null   float64\n",
      " 6   High       1258 non-null   float64\n",
      "dtypes: float64(5), int64(1), object(1)\n",
      "memory usage: 68.9+ KB\n"
     ]
    }
   ],
   "source": [
    "nvda.info()"
   ]
  },
  {
   "cell_type": "code",
   "execution_count": 13,
   "metadata": {
    "colab": {
     "base_uri": "https://localhost:8080/"
    },
    "id": "b3OWuwFFsl6t",
    "outputId": "e37284ba-f4fa-4297-e6f2-cb5afbbf365e"
   },
   "outputs": [
    {
     "name": "stdout",
     "output_type": "stream",
     "text": [
      "\n",
      "Date range: 2011-07-28 00:00:00 to 2016-07-27 00:00:00\n"
     ]
    }
   ],
   "source": [
    "nvda['Date'] = pd.to_datetime(nvda['Date'])\n",
    "print(\"\\nDate range:\", nvda['Date'].min(), \"to\", nvda['Date'].max())"
   ]
  },
  {
   "cell_type": "code",
   "execution_count": 14,
   "metadata": {
    "colab": {
     "base_uri": "https://localhost:8080/"
    },
    "id": "sg45gj1uuIVG",
    "outputId": "da57c413-a4e3-44b3-a1ff-c41e3c6ec998"
   },
   "outputs": [
    {
     "name": "stdout",
     "output_type": "stream",
     "text": [
      "Date         0\n",
      "Close        0\n",
      "Low          0\n",
      "Volume       0\n",
      "Open         0\n",
      "Adj_Close    0\n",
      "High         0\n",
      "dtype: int64\n"
     ]
    }
   ],
   "source": [
    "print(nvda.isnull().sum())"
   ]
  },
  {
   "cell_type": "code",
   "execution_count": 15,
   "metadata": {
    "colab": {
     "base_uri": "https://localhost:8080/"
    },
    "id": "7-K14nzSt4Wb",
    "outputId": "4ac7c1b4-9bca-49f3-a8fc-8b8b593d40af"
   },
   "outputs": [
    {
     "name": "stdout",
     "output_type": "stream",
     "text": [
      "\n",
      "Number of missing dates: 569\n"
     ]
    }
   ],
   "source": [
    "nvda = nvda.sort_values('Date')\n",
    "date_range = pd.date_range(start=nvda['Date'].min(), end=nvda['Date'].max())\n",
    "missing_dates = set(date_range) - set(nvda['Date'])\n",
    "print(f\"\\nNumber of missing dates: {len(missing_dates)}\")"
   ]
  },
  {
   "cell_type": "code",
   "execution_count": 16,
   "metadata": {},
   "outputs": [
    {
     "data": {
      "image/png": "[encoded data removed]",
      "text/plain": [
       "<Figure size 1000x500 with 1 Axes>"
      ]
     },
     "metadata": {},
     "output_type": "display_data"
    }
   ],
   "source": [
    "plt.figure(figsize=(10, 5))\n",
    "\n",
    "plt.plot(nvda.index, nvda['Adj_Close'], label='Adj_Close', color='blue', linewidth=2)\n",
    "\n",
    "plt.title('NVIDIA Adjusted Close Price Over Time', fontsize=16)\n",
    "plt.xlabel('Date', fontsize=14)\n",
    "plt.ylabel('Adjusted Close Price ($)', fontsize=14)\n",
    "\n",
    "plt.grid(True)\n",
    "plt.legend()\n",
    "plt.tight_layout()\n",
    "plt.show()"
   ]
  },
  {
   "cell_type": "markdown",
   "metadata": {
    "id": "euujYOFhvVtM"
   },
   "source": [
    "Okay so we have a pretty good dataset, without any null values, having datatypes properly, and missing dates as it should be, because for the given interval the number of holidays and weekends (times where stock market is not active) matches perfectly with our missing dates number, so no further imputations needed here, we have completely clean and good dataset"
   ]
  },
  {
   "cell_type": "markdown",
   "metadata": {
    "id": "b9BN8MSvwMqW"
   },
   "source": [
    "Time to convert our time series to a cross-sectional problem and split it for further modeling. I will use tsfresh for the feature extraction and before extractiing, I will create some suggested and commonly used financial stock-related variables that could have some effect on our forecasting process"
   ]
  },
  {
   "cell_type": "code",
   "execution_count": 19,
   "metadata": {
    "colab": {
     "base_uri": "https://localhost:8080/"
    },
    "id": "CrCtvJkLxbra",
    "outputId": "59e4a02e-5185-4779-f83f-175850cb0bf5"
   },
   "outputs": [
    {
     "name": "stderr",
     "output_type": "stream",
     "text": [
      "Feature Extraction: 100%|██████████| 30/30 [00:15<00:00,  1.99it/s]\n"
     ]
    }
   ],
   "source": [
    "nvda['time_idx'] = range(len(nvda))\n",
    "nvda['id'] = 1\n",
    "\n",
    "for lag in [1, 2, 3, 5, 10, 20]:\n",
    "    nvda[f'Close_lag_{lag}'] = nvda['Close'].shift(lag)\n",
    "    nvda[f'Volume_lag_{lag}'] = nvda['Volume'].shift(lag)\n",
    "\n",
    "# Create technical indicators\n",
    "nvda['returns'] = nvda['Adj_Close'].pct_change()\n",
    "nvda['log_returns'] = np.log(nvda['Adj_Close']).diff()\n",
    "\n",
    "# Moving averages\n",
    "for window in [5, 10, 20, 50]:\n",
    "    nvda[f'SMA_{window}'] = nvda['Adj_Close'].rolling(window=window).mean()\n",
    "    nvda[f'Volume_SMA_{window}'] = nvda['Volume'].rolling(window=window).mean()\n",
    "\n",
    "# Volatility\n",
    "nvda['volatility_10'] = nvda['returns'].rolling(window=10).std()\n",
    "nvda['volatility_30'] = nvda['returns'].rolling(window=30).std()\n",
    "\n",
    "# Price range features\n",
    "nvda['daily_range'] = nvda['High'] - nvda['Low']\n",
    "nvda['daily_range_pct'] = nvda['daily_range'] / nvda['Open']\n",
    "\n",
    "nvda['target'] = nvda['Adj_Close'].shift(-1)\n",
    "\n",
    "nvda = nvda.dropna()\n",
    "\n",
    "window_size = 30\n",
    "tsfresh_data = []\n",
    "\n",
    "for i in range(window_size, len(nvda)):\n",
    "    window = nvda.iloc[i-window_size:i].copy()\n",
    "    window['id'] = i\n",
    "    window['time_idx'] = range(window_size)\n",
    "    tsfresh_data.append(window)\n",
    "\n",
    "if tsfresh_data:\n",
    "    tsfresh_df = pd.concat(tsfresh_data)\n",
    "\n",
    "    tsfresh_features = extract_features(tsfresh_df,\n",
    "                                   column_id='id',\n",
    "                                   column_sort='time_idx',\n",
    "                                   column_value='Close',\n",
    "                                   impute_function=impute,\n",
    "                                   default_fc_parameters=settings.EfficientFCParameters())\n",
    "\n",
    "    feature_ids = tsfresh_features.index.tolist()\n",
    "    nvda_subset = nvda.loc[feature_ids].copy()\n",
    "    nvda_with_features = pd.merge(nvda_subset, tsfresh_features,\n",
    "                                  left_index=True, right_index=True)\n",
    "else:\n",
    "    print(\"Not enough data for tsfresh feature extraction\")\n",
    "    nvda_with_features = nvda.copy()"
   ]
  },
  {
   "cell_type": "code",
   "execution_count": 20,
   "metadata": {
    "id": "Tmxcjdjz0Qm9"
   },
   "outputs": [],
   "source": [
    "X = nvda_with_features.drop(['Date', 'time_idx', 'id', 'target', 'Adj_Close'], axis=1)\n",
    "y = nvda_with_features['target']\n",
    "\n",
    "split_idx = int(len(X) * 0.8)\n",
    "X_train, X_test = X.iloc[:split_idx], X.iloc[split_idx:]\n",
    "y_train, y_test = y.iloc[:split_idx], y.iloc[split_idx:]"
   ]
  },
  {
   "cell_type": "code",
   "execution_count": 21,
   "metadata": {
    "colab": {
     "base_uri": "https://localhost:8080/"
    },
    "id": "hsnPdnAG1tVV",
    "outputId": "846973ce-a6f4-4121-cee8-d477fd65c1d3"
   },
   "outputs": [
    {
     "name": "stdout",
     "output_type": "stream",
     "text": [
      "Selected 50 features\n",
      "Selected features:\n",
      "- Close\n",
      "- Low\n",
      "- Open\n",
      "- High\n",
      "- Close_lag_1\n",
      "- Close_lag_2\n",
      "- Close_lag_3\n",
      "- Close_lag_5\n",
      "- Close_lag_10\n",
      "- Close_lag_20\n",
      "- SMA_5\n",
      "- SMA_10\n",
      "- SMA_20\n",
      "- SMA_50\n",
      "- Close__sum_values\n",
      "- Close__abs_energy\n",
      "- Close__median\n",
      "- Close__mean\n",
      "- Close__root_mean_square\n",
      "- Close__minimum\n",
      "- Close__c3__lag_1\n",
      "- Close__c3__lag_2\n",
      "- Close__c3__lag_3\n",
      "- Close__quantile__q_0.1\n",
      "- Close__quantile__q_0.2\n",
      "- Close__quantile__q_0.3\n",
      "- Close__quantile__q_0.4\n",
      "- Close__quantile__q_0.6\n",
      "- Close__quantile__q_0.7\n",
      "- Close__quantile__q_0.8\n",
      "- Close__cwt_coefficients__coeff_2__w_20__widths_(2, 5, 10, 20)\n",
      "- Close__cwt_coefficients__coeff_3__w_20__widths_(2, 5, 10, 20)\n",
      "- Close__cwt_coefficients__coeff_4__w_20__widths_(2, 5, 10, 20)\n",
      "- Close__cwt_coefficients__coeff_5__w_20__widths_(2, 5, 10, 20)\n",
      "- Close__cwt_coefficients__coeff_6__w_20__widths_(2, 5, 10, 20)\n",
      "- Close__cwt_coefficients__coeff_7__w_20__widths_(2, 5, 10, 20)\n",
      "- Close__cwt_coefficients__coeff_8__w_20__widths_(2, 5, 10, 20)\n",
      "- Close__cwt_coefficients__coeff_9__w_20__widths_(2, 5, 10, 20)\n",
      "- Close__cwt_coefficients__coeff_10__w_20__widths_(2, 5, 10, 20)\n",
      "- Close__cwt_coefficients__coeff_11__w_20__widths_(2, 5, 10, 20)\n",
      "- Close__cwt_coefficients__coeff_12__w_10__widths_(2, 5, 10, 20)\n",
      "- Close__cwt_coefficients__coeff_12__w_20__widths_(2, 5, 10, 20)\n",
      "- Close__cwt_coefficients__coeff_13__w_10__widths_(2, 5, 10, 20)\n",
      "- Close__cwt_coefficients__coeff_13__w_20__widths_(2, 5, 10, 20)\n",
      "- Close__cwt_coefficients__coeff_14__w_10__widths_(2, 5, 10, 20)\n",
      "- Close__cwt_coefficients__coeff_14__w_20__widths_(2, 5, 10, 20)\n",
      "- Close__fft_coefficient__attr_\"real\"__coeff_0\n",
      "- Close__fft_coefficient__attr_\"abs\"__coeff_0\n",
      "- Close__agg_linear_trend__attr_\"intercept\"__chunk_len_5__f_agg_\"min\"\n",
      "- Close__agg_linear_trend__attr_\"intercept\"__chunk_len_10__f_agg_\"min\"\n"
     ]
    }
   ],
   "source": [
    "k = min(50, X_train.shape[1], X_train.shape[0])\n",
    "selector = SelectKBest(f_regression, k=k)\n",
    "X_train_selected = selector.fit_transform(X_train, y_train)\n",
    "X_test_selected = selector.transform(X_test)\n",
    "\n",
    "selected_features = X_train.columns[selector.get_support()]\n",
    "print(f\"Selected {len(selected_features)} features\")\n",
    "print(\"Selected features:\")\n",
    "for feature in selected_features:\n",
    "    print(f\"- {feature}\")"
   ]
  },
  {
   "cell_type": "code",
   "execution_count": 22,
   "metadata": {
    "colab": {
     "base_uri": "https://localhost:8080/"
    },
    "id": "4w6PvJRH5rii",
    "outputId": "9309bc3a-95b8-4d20-be0f-55884d361faa"
   },
   "outputs": [
    {
     "name": "stdout",
     "output_type": "stream",
     "text": [
      "Starting hyperparameter tuning...\n",
      "Fitting 3 folds for each of 18 candidates, totalling 54 fits\n",
      "\n",
      "Best parameters found by GridSearchCV:\n",
      "{'learning_rate': 0.1, 'max_depth': 3, 'n_estimators': 100}\n",
      "Best RMSE: 6.0753\n",
      "\n",
      "Tuned XGBoost Performance:\n",
      "MAE: 0.30\n",
      "RMSE: 0.37\n",
      "R²: 0.8616\n"
     ]
    }
   ],
   "source": [
    "param_grid = {\n",
    "    'n_estimators': [50, 100, 150],\n",
    "    'max_depth': [3, 5, 7],\n",
    "    'learning_rate': [0.01, 0.1]\n",
    "}\n",
    "\n",
    "xgb_model = xgb.XGBRegressor(\n",
    "    objective='reg:squarederror',\n",
    "    random_state=42\n",
    ")\n",
    "\n",
    "grid_search = GridSearchCV(\n",
    "    estimator=xgb_model,\n",
    "    param_grid=param_grid,\n",
    "    cv=3,\n",
    "    scoring='neg_mean_squared_error',\n",
    "    verbose=1,\n",
    "    n_jobs=-1\n",
    ")\n",
    "\n",
    "print(\"Starting hyperparameter tuning...\")\n",
    "grid_search.fit(X_train_selected, y_train)\n",
    "\n",
    "print(\"\\nBest parameters found by GridSearchCV:\")\n",
    "print(grid_search.best_params_)\n",
    "print(f\"Best RMSE: {np.sqrt(-grid_search.best_score_):.4f}\")\n",
    "\n",
    "best_model = grid_search.best_estimator_\n",
    "\n",
    "y_pred = best_model.predict(X_test_selected)\n",
    "\n",
    "mae = mean_absolute_error(y_test, y_pred)\n",
    "rmse = np.sqrt(mean_squared_error(y_test, y_pred))\n",
    "r2 = r2_score(y_test, y_pred)\n",
    "\n",
    "print(f\"\\nTuned XGBoost Performance:\")\n",
    "print(f\"MAE: {mae:.2f}\")\n",
    "print(f\"RMSE: {rmse:.2f}\")\n",
    "print(f\"R²: {r2:.4f}\")"
   ]
  },
  {
   "cell_type": "code",
   "execution_count": 23,
   "metadata": {},
   "outputs": [
    {
     "data": {
      "image/png": "[encoded data removed]",
      "text/plain": [
       "<Figure size 1000x800 with 1 Axes>"
      ]
     },
     "metadata": {},
     "output_type": "display_data"
    }
   ],
   "source": [
    "results_df = pd.DataFrame({'Actual': y_test.values, 'Predicted': y_pred})\n",
    "\n",
    "plt.figure(figsize=(10, 8))\n",
    "\n",
    "sns.set_style('whitegrid')\n",
    "ax = sns.scatterplot(x='Actual', y='Predicted', data=results_df, alpha=0.6, color='#1f77b4')\n",
    "\n",
    "max_val = max(results_df['Actual'].max(), results_df['Predicted'].max())\n",
    "min_val = min(results_df['Actual'].min(), results_df['Predicted'].min())\n",
    "ax.plot([min_val, max_val], [min_val, max_val], 'r--', linewidth=2)\n",
    "\n",
    "plt.xlabel('Actual Values', fontsize=14)\n",
    "plt.ylabel('Predicted Values', fontsize=14)\n",
    "plt.title('XGBoost: Actual vs. Predicted Values', fontsize=16)\n",
    "\n",
    "metrics_text = f'MAE: {mae:.2f}\\nRMSE: {rmse:.2f}\\nR²: {r2:.4f}'\n",
    "plt.annotate(metrics_text, xy=(0.05, 0.95), xycoords='axes fraction', \n",
    "            bbox=dict(boxstyle=\"round,pad=0.5\", fc=\"white\", ec=\"gray\", alpha=0.8),\n",
    "            fontsize=12, ha='left', va='top')\n",
    "\n",
    "plt.tight_layout()\n",
    "plt.grid(True, linestyle='--', alpha=0.7)\n",
    "plt.show()"
   ]
  },
  {
   "cell_type": "markdown",
   "metadata": {
    "id": "vhPcHoKQfLzr"
   },
   "source": [
    "What can we say about this metrics is that we have a really strong performance by XGBoost. We got really good R squared, which gives us 86% of variance explained and our MAE and RMSE also yields consistent performance, with really close predictions to the actual prices"
   ]
  },
  {
   "cell_type": "markdown",
   "metadata": {
    "id": "wbq2bpWXf9oS"
   },
   "source": [
    "Now let's try to train and evaluate the classical forecasting model, which is ARIMAX, because in the last assignment it had the best results for the stock prediction and compare it to the XGBoost"
   ]
  },
  {
   "cell_type": "code",
   "execution_count": 26,
   "metadata": {
    "colab": {
     "base_uri": "https://localhost:8080/",
     "height": 238
    },
    "id": "bESvv4X4fcIe",
    "outputId": "d8b6b2b2-9021-468e-e97a-488ef5113b95"
   },
   "outputs": [
    {
     "data": {
      "text/html": [
       "<div>\n",
       "<style scoped>\n",
       "    .dataframe tbody tr th:only-of-type {\n",
       "        vertical-align: middle;\n",
       "    }\n",
       "\n",
       "    .dataframe tbody tr th {\n",
       "        vertical-align: top;\n",
       "    }\n",
       "\n",
       "    .dataframe thead th {\n",
       "        text-align: right;\n",
       "    }\n",
       "</style>\n",
       "<table border=\"1\" class=\"dataframe\">\n",
       "  <thead>\n",
       "    <tr style=\"text-align: right;\">\n",
       "      <th></th>\n",
       "      <th>Close</th>\n",
       "      <th>Low</th>\n",
       "      <th>Volume</th>\n",
       "      <th>Open</th>\n",
       "      <th>Adj_Close</th>\n",
       "      <th>High</th>\n",
       "    </tr>\n",
       "    <tr>\n",
       "      <th>Date</th>\n",
       "      <th></th>\n",
       "      <th></th>\n",
       "      <th></th>\n",
       "      <th></th>\n",
       "      <th></th>\n",
       "      <th></th>\n",
       "    </tr>\n",
       "  </thead>\n",
       "  <tbody>\n",
       "    <tr>\n",
       "      <th>2011-07-28</th>\n",
       "      <td>13.83</td>\n",
       "      <td>13.59</td>\n",
       "      <td>16204400</td>\n",
       "      <td>13.81</td>\n",
       "      <td>12.914859</td>\n",
       "      <td>14.12</td>\n",
       "    </tr>\n",
       "    <tr>\n",
       "      <th>2011-07-29</th>\n",
       "      <td>13.83</td>\n",
       "      <td>13.62</td>\n",
       "      <td>16941400</td>\n",
       "      <td>13.69</td>\n",
       "      <td>12.914859</td>\n",
       "      <td>13.96</td>\n",
       "    </tr>\n",
       "    <tr>\n",
       "      <th>2011-08-01</th>\n",
       "      <td>14.57</td>\n",
       "      <td>14.03</td>\n",
       "      <td>25490500</td>\n",
       "      <td>14.15</td>\n",
       "      <td>13.605893</td>\n",
       "      <td>14.61</td>\n",
       "    </tr>\n",
       "    <tr>\n",
       "      <th>2011-08-02</th>\n",
       "      <td>14.42</td>\n",
       "      <td>14.42</td>\n",
       "      <td>33910800</td>\n",
       "      <td>14.47</td>\n",
       "      <td>13.465819</td>\n",
       "      <td>15.38</td>\n",
       "    </tr>\n",
       "    <tr>\n",
       "      <th>2011-08-03</th>\n",
       "      <td>14.81</td>\n",
       "      <td>14.31</td>\n",
       "      <td>19130900</td>\n",
       "      <td>14.45</td>\n",
       "      <td>13.830012</td>\n",
       "      <td>14.86</td>\n",
       "    </tr>\n",
       "  </tbody>\n",
       "</table>\n",
       "</div>"
      ],
      "text/plain": [
       "            Close    Low    Volume   Open  Adj_Close   High\n",
       "Date                                                       \n",
       "2011-07-28  13.83  13.59  16204400  13.81  12.914859  14.12\n",
       "2011-07-29  13.83  13.62  16941400  13.69  12.914859  13.96\n",
       "2011-08-01  14.57  14.03  25490500  14.15  13.605893  14.61\n",
       "2011-08-02  14.42  14.42  33910800  14.47  13.465819  15.38\n",
       "2011-08-03  14.81  14.31  19130900  14.45  13.830012  14.86"
      ]
     },
     "execution_count": 26,
     "metadata": {},
     "output_type": "execute_result"
    }
   ],
   "source": [
    "nvda= pd.read_csv(r\"C:\\Users\\user\\Desktop\\yahoo_NVDA.csv\")\n",
    "nvda = nvda.iloc[:, 2:]\n",
    "nvda['Date'] = pd.to_datetime(nvda['Date'])\n",
    "nvda = nvda.sort_values('Date')\n",
    "nvda = nvda.set_index('Date')\n",
    "nvda.head()"
   ]
  },
  {
   "cell_type": "code",
   "execution_count": null,
   "metadata": {
    "colab": {
     "base_uri": "https://localhost:8080/",
     "height": 542
    },
    "id": "MqlBM-89grxx",
    "outputId": "130e29aa-9a98-4908-cbbe-8625fcd7312e"
   },
   "outputs": [],
   "source": [
    "plt.figure(figsize=(10, 5))\n",
    "\n",
    "plt.plot(nvda.index, nvda['Adj_Close'], label='Adj_Close', color='blue', linewidth=2)\n",
    "\n",
    "plt.title('NVIDIA Adjusted Close Price Over Time', fontsize=16)\n",
    "plt.xlabel('Date', fontsize=14)\n",
    "plt.ylabel('Adjusted Close Price ($)', fontsize=14)\n",
    "\n",
    "plt.grid(True)\n",
    "plt.legend()\n",
    "plt.tight_layout()\n",
    "plt.show()"
   ]
  },
  {
   "cell_type": "code",
   "execution_count": null,
   "metadata": {
    "colab": {
     "base_uri": "https://localhost:8080/",
     "height": 820
    },
    "id": "LRynZy1AiL4Z",
    "outputId": "41c3b368-cf13-4fa3-e5de-0261a6c7feaa"
   },
   "outputs": [],
   "source": [
    "def check_stationarity(series, title):\n",
    "    result = adfuller(series.dropna())\n",
    "\n",
    "    print(f\"ADF Test for {title}\")\n",
    "    print(f\"ADF Statistic: {result[0]}\")\n",
    "    print(f\"p-value: {result[1]}\")\n",
    "    print(\"Critical Values:\")\n",
    "    for key, value in result[4].items():\n",
    "        print(f\"\\t{key}: {value}\")\n",
    "\n",
    "    if result[1] <= 0.05:\n",
    "        print(\"Conclusion: Series is stationary (reject H0)\")\n",
    "        return True\n",
    "    else:\n",
    "        print(\"Conclusion: Series is non-stationary (fail to reject H0)\")\n",
    "        return False\n",
    "\n",
    "is_stationary = check_stationarity(nvda['Adj_Close'], 'Adjusted Close Price')\n",
    "\n",
    "if not is_stationary:\n",
    "    nvda['Adj_Close_diff'] = nvda['Adj_Close'].diff().dropna()\n",
    "\n",
    "    is_diff_stationary = check_stationarity(nvda['Adj_Close_diff'], 'Differenced Adjusted Close Price')\n",
    "\n",
    "    plt.figure(figsize=(10, 5))\n",
    "    plt.plot(nvda['Adj_Close_diff'].index, nvda['Adj_Close_diff'], color='purple', linewidth=2)\n",
    "    plt.title('Differenced NVIDIA Adjusted Close Price')\n",
    "    plt.xlabel('Date')\n",
    "    plt.ylabel('Differenced Adjusted Close Price ($)')\n",
    "    plt.tight_layout()\n",
    "    plt.grid(True)\n",
    "    plt.show()\n",
    "\n",
    "    d = 1\n",
    "else:\n",
    "    d = 0"
   ]
  },
  {
   "cell_type": "code",
   "execution_count": null,
   "metadata": {
    "id": "J3yE9VlLjDgp"
   },
   "outputs": [],
   "source": [
    "train_size = int(len(nvda) * 0.8)\n",
    "train_data = nvda.iloc[:train_size]\n",
    "test_data = nvda.iloc[train_size:]"
   ]
  },
  {
   "cell_type": "markdown",
   "metadata": {
    "id": "HcZSgZZ4qk7E"
   },
   "source": [
    "I could not include the part where I found out the best parameters for the ARIMA model, because it would not let me import the auto_arima library in collab for some version dismatch, so I did that seprately in vscode and turned out that 3, 2, 0 are the optimal parameters"
   ]
  },
  {
   "cell_type": "code",
   "execution_count": null,
   "metadata": {
    "colab": {
     "base_uri": "https://localhost:8080/"
    },
    "id": "lriIZatuo0aE",
    "outputId": "e1b9448a-ccf1-4713-9c6a-4eb2a1543d4f"
   },
   "outputs": [],
   "source": [
    "warnings.filterwarnings('ignore')\n",
    "\n",
    "exog_train = train_data[['Volume']]\n",
    "exog_test = test_data[['Volume']]\n",
    "\n",
    "p, d, q = 3, 2, 0\n",
    "\n",
    "model = ARIMA(train_data['Adj_Close'], exog=exog_train, order=(p, d, q))\n",
    "fitted_model = model.fit()\n",
    "print(fitted_model.summary())\n",
    "\n",
    "predictions = fitted_model.forecast(steps=len(test_data), exog=exog_test)\n",
    "\n",
    "mae = mean_absolute_error(test_data['Adj_Close'], predictions)\n",
    "rmse = np.sqrt(mean_squared_error(test_data['Adj_Close'], predictions))\n",
    "r2 = r2_score(test_data['Adj_Close'], predictions)\n",
    "\n",
    "print(\"\\nARIMAX Performance:\")\n",
    "print(f\"MAE: {mae:.2f}\")\n",
    "print(f\"RMSE: {rmse:.2f}\")\n",
    "print(f\"R²: {r2:.4f}\")"
   ]
  },
  {
   "cell_type": "code",
   "execution_count": null,
   "metadata": {},
   "outputs": [],
   "source": [
    "if isinstance(predictions, (pd.Series, pd.Index)):\n",
    "    pred_values = predictions.values\n",
    "else:\n",
    "    pred_values = predictions\n",
    "\n",
    "results_df = pd.DataFrame({\n",
    "    'Actual': test_data['Adj_Close'].values,\n",
    "    'Predicted': pred_values\n",
    "}, index=test_data.index)\n",
    "\n",
    "plt.style.use('seaborn-v0_8-whitegrid')\n",
    "sns.set_palette(\"deep\")\n",
    "\n",
    "plt.figure(figsize=(16, 8))\n",
    "\n",
    "plt.plot(results_df.index, results_df['Actual'], label='Actual', linewidth=2, color='blue')\n",
    "\n",
    "plt.plot(results_df.index, results_df['Predicted'], label='Predicted', linewidth=2, \n",
    "         linestyle='--', color='red')\n",
    "\n",
    "plt.title('NVIDIA Stock Price: Actual vs Predicted', fontsize=16)\n",
    "plt.xlabel('Date', fontsize=12)\n",
    "plt.ylabel('Adjusted Close Price ($)', fontsize=12)\n",
    "plt.legend(loc='best', fontsize=12)\n",
    "plt.grid(True)\n",
    "plt.xticks(rotation=45)\n",
    "plt.tight_layout()\n",
    "\n",
    "print(\"First 5 rows of the results:\")\n",
    "print(results_df.head())\n",
    "\n",
    "plt.show()"
   ]
  },
  {
   "cell_type": "markdown",
   "metadata": {
    "id": "kbrU_1farJmo"
   },
   "source": [
    "So we got our final results like following:\n",
    "\n",
    "**XGBoost Metrics**:\n",
    "- MAE: 0.30\n",
    "- RMSE: 0.37\n",
    "- R²: 0.8616\n",
    "\n",
    "**ARIMAX Metrics**:\n",
    "- MAE: 2.97\n",
    "- RMSE: 3.74\n",
    "- R²: 0.8252\n",
    "\n",
    "Both models demonstrate strong predictive power for our NVDIA stock prices, having XGBoost clearly outperforminhg ARIMAX. While the models achieve similar R squared, XGBoost delivers much better precision with approximately 10 times lower error rates. This was pretty expectable, because XGBoost is a modern machine learning approach, utilizing 50 engineered features, while ARIMAX is traditional statistical model capturing only linear relationships. To sum up, both of them had quite good results, but XGBoost is much more reliable and useful model for stock price prediction, because it has ability to capture complex non-linear relationships."
   ]
  }
 ],
 "metadata": {
  "colab": {
   "provenance": [],
   "toc_visible": true
  },
  "kernelspec": {
   "display_name": "Python [conda env:base]",
   "language": "python",
   "name": "conda-base-py"
  },
  "language_info": {
   "codemirror_mode": {
    "name": "ipython",
    "version": 3
   },
   "file_extension": ".py",
   "mimetype": "text/x-python",
   "name": "python",
   "nbconvert_exporter": "python",
   "pygments_lexer": "ipython3",
   "version": "3.12.7"
  }
 },
 "nbformat": 4,
 "nbformat_minor": 4
}
